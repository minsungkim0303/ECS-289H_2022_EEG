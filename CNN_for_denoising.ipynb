{
  "nbformat": 4,
  "nbformat_minor": 0,
  "metadata": {
    "colab": {
      "name": "CNN_for_denoising.ipynb",
      "provenance": [],
      "authorship_tag": "ABX9TyO+RxvdtV+JlFAWpfKFgTPE"
    },
    "kernelspec": {
      "name": "python3",
      "display_name": "Python 3"
    },
    "language_info": {
      "name": "python"
    }
  },
  "cells": [
    {
      "cell_type": "code",
      "execution_count": 1,
      "metadata": {
        "id": "9T-bpi9nvI0t"
      },
      "outputs": [],
      "source": [
        "import tensorflow as tf\n",
        "from tensorflow.keras import datasets, layers, models, Input, Sequential"
      ]
    },
    {
      "cell_type": "code",
      "source": [
        "def CNN(datanum):\n",
        "  model = tf.keras.Sequential()\n",
        "\n",
        "  model.add(layers.Conv1D(64, 3, strides=1, padding='same',input_shape=[ datanum, 1]))\n",
        "  model.add(layers.BatchNormalization())\n",
        "  model.add(layers.ReLU())\n",
        "  model.add(layers.Dropout(0.3))\n",
        "\n",
        "  model.add(layers.Conv1D(64, 3, strides=1, padding='same'))\n",
        "  model.add(layers.BatchNormalization())\n",
        "  model.add(layers.ReLU())\n",
        "  model.add(layers.Dropout(0.3))\n",
        "\n",
        "  model.add(layers.Conv1D(64, 3, strides=1, padding='same'))\n",
        "  model.add(layers.BatchNormalization())\n",
        "  model.add(layers.ReLU())\n",
        "  model.add(layers.Dropout(0.3))\n",
        "\n",
        "  model.add(layers.Conv1D(64, 3, strides=1, padding='same'))\n",
        "  model.add(layers.BatchNormalization())\n",
        "  model.add(layers.ReLU())\n",
        "  model.add(layers.Dropout(0.3))\n",
        "\n",
        "  model.add(layers.Flatten())\n",
        "  model.add(layers.Dense(datanum))\n",
        "\n",
        "  model.build(input_shape=[ 1,datanum, 1] )\n",
        "  model.summary()\n",
        "\n",
        "  return model"
      ],
      "metadata": {
        "id": "ao_KB4qZvQlF"
      },
      "execution_count": 3,
      "outputs": []
    }
  ]
}